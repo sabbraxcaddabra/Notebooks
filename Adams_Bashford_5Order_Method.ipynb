{
 "cells": [
  {
   "cell_type": "code",
   "execution_count": 84,
   "id": "b93698df",
   "metadata": {},
   "outputs": [],
   "source": [
    "from collections import deque\n",
    "import numpy as np\n",
    "import matplotlib.pyplot as plt"
   ]
  },
  {
   "cell_type": "markdown",
   "id": "4ec7525b",
   "metadata": {},
   "source": [
    "### Реализация метода Рунге-Кутты 4 порядка для первых 4 шагов метода Адамса-Башфорда 5 порядка(с расчетом производной по новому значению функции)"
   ]
  },
  {
   "cell_type": "code",
   "execution_count": 85,
   "id": "6658cd51",
   "metadata": {},
   "outputs": [],
   "source": [
    "def rungeStep_for_adams_bashford(f, t, y0, tau, args):\n",
    "    k1 = tau * f(t, y0, *args)\n",
    "    k2 = tau * f(t, y0 + k1 / 2, *args)\n",
    "    k3 = tau * f(t, y0 + k2 / 2, *args)\n",
    "    k4 = tau * f(t, y0 + k3, *args)\n",
    "    increment = (k1 + 2 * k2 + 2 * k3 + k4) / 6\n",
    "    return y0+increment, f(t+tau, y0+increment, *args)"
   ]
  },
  {
   "cell_type": "markdown",
   "id": "dbb8d856",
   "metadata": {},
   "source": [
    "### Реализация расчета нового значения по методу Рунге-Кутты 4 порядка"
   ]
  },
  {
   "cell_type": "code",
   "execution_count": 86,
   "id": "43943037",
   "metadata": {},
   "outputs": [],
   "source": [
    "def rungeStep(f, t, y0, tau, args):\n",
    "    k1 = tau * f(t, y0, *args)\n",
    "    k2 = tau * f(t, y0 + k1 / 2, *args)\n",
    "    k3 = tau * f(t, y0 + k2 / 2, *args)\n",
    "    k4 = tau * f(t, y0 + k3, *args)\n",
    "    increment = (k1 + 2 * k2 + 2 * k3 + k4) / 6\n",
    "    return y0+increment"
   ]
  },
  {
   "cell_type": "markdown",
   "id": "c9c3fe2a",
   "metadata": {},
   "source": [
    "### Полная реализация метода Адамса-Башфорда 5 порядка"
   ]
  },
  {
   "cell_type": "code",
   "execution_count": 87,
   "id": "44065ffa",
   "metadata": {},
   "outputs": [],
   "source": [
    "def adams_bashford5(f, t0, t_end, y0, tau, args):\n",
    "    dy_que = deque(maxlen = 4)\n",
    "    ys = [y0]\n",
    "    ts = [t0]\n",
    "    for _ in range(5):\n",
    "        y0, dy = rungeStep_for_adams_bashford(f, t0, y0, tau, args)\n",
    "        t0 += tau\n",
    "        ys.append(y0)\n",
    "        dy_que.append(dy)\n",
    "        ts.append(t0)\n",
    "    while t0 <= t_end:\n",
    "        last_dy = f(t0, y0, *args)\n",
    "        y0 = y0 + tau*((1901/720)*last_dy - (1387/360)*dy_que[3] + (109/30)*dy_que[2] - (637/360)*dy_que[1] + (251/720)*dy_que[0])\n",
    "        t0 += tau\n",
    "        ys.append(y0)\n",
    "        dy_que.append(last_dy)\n",
    "        ts.append(t0)\n",
    "    return np.array(ys), np.array(ts)"
   ]
  },
  {
   "cell_type": "markdown",
   "id": "6c25752a",
   "metadata": {},
   "source": [
    "### Полная реализация метода Рунге-Кутты 4 порядка"
   ]
  },
  {
   "cell_type": "code",
   "execution_count": 88,
   "id": "712652a8",
   "metadata": {},
   "outputs": [],
   "source": [
    "def runge_kutta4(f, t0, t_end, y0, tau, args):\n",
    "    ys = [y0]\n",
    "    ts = [t0]\n",
    "    while t0 <= t_end:\n",
    "        y0 = rungeStep(f, t0, y0, tau, args)\n",
    "        t0 += tau\n",
    "        ys.append(y0)\n",
    "        ts.append(t0)\n",
    "    return np.array(ys), np.array(ts)"
   ]
  },
  {
   "cell_type": "markdown",
   "id": "06e2a2e8",
   "metadata": {},
   "source": [
    "### Система уравнений для тестирования реализации метода"
   ]
  },
  {
   "cell_type": "code",
   "execution_count": 89,
   "id": "8818183a",
   "metadata": {},
   "outputs": [],
   "source": [
    "def pend(t, y, b, c):\n",
    "    theta, omega = y\n",
    "    d = b\n",
    "    e = c\n",
    "    dydt = np.array([omega, -d*omega - e*np.sin(theta)])\n",
    "    return dydt"
   ]
  },
  {
   "cell_type": "markdown",
   "id": "e09386c5",
   "metadata": {},
   "source": [
    "### Доп.параметры системы и задание начальных условий"
   ]
  },
  {
   "cell_type": "code",
   "execution_count": 90,
   "id": "e8ded3a9",
   "metadata": {},
   "outputs": [],
   "source": [
    "args = (0.25, 3)\n",
    "y0 = np.array([np.pi - 0.1, 0.0])"
   ]
  },
  {
   "cell_type": "markdown",
   "id": "16cfcf71",
   "metadata": {},
   "source": [
    "#### Решение методом Адамса-Башфорда 5 порядка"
   ]
  },
  {
   "cell_type": "code",
   "execution_count": 91,
   "id": "e13f9165",
   "metadata": {},
   "outputs": [],
   "source": [
    "ys_a, ts_a = adams_bashford5(pend, 0, 10, y0[:], 0.1, args)"
   ]
  },
  {
   "cell_type": "markdown",
   "id": "7576a3ac",
   "metadata": {},
   "source": [
    "#### График"
   ]
  },
  {
   "cell_type": "code",
   "execution_count": 92,
   "id": "c91a5379",
   "metadata": {},
   "outputs": [
    {
     "data": {
      "text/plain": [
       "[<matplotlib.lines.Line2D at 0x1d4742bc5b0>]"
      ]
     },
     "execution_count": 92,
     "metadata": {},
     "output_type": "execute_result"
    },
    {
     "data": {
      "image/png": "[encoded data removed]",
      "text/plain": [
       "<Figure size 432x288 with 1 Axes>"
      ]
     },
     "metadata": {
      "needs_background": "light"
     },
     "output_type": "display_data"
    }
   ],
   "source": [
    "plt.plot(ys_a[:, 1], ts_a)"
   ]
  },
  {
   "cell_type": "markdown",
   "id": "48d33902",
   "metadata": {},
   "source": [
    "#### Решение методом Рунге-Кутты 4 порядка"
   ]
  },
  {
   "cell_type": "code",
   "execution_count": 93,
   "id": "8eddcede",
   "metadata": {},
   "outputs": [],
   "source": [
    "ys_rk, ts_rk = runge_kutta4(pend, 0, 10, y0[:], 0.1, args)"
   ]
  },
  {
   "cell_type": "markdown",
   "id": "eec2359e",
   "metadata": {},
   "source": [
    "#### График"
   ]
  },
  {
   "cell_type": "code",
   "execution_count": 94,
   "id": "662836d1",
   "metadata": {},
   "outputs": [
    {
     "data": {
      "text/plain": [
       "[<matplotlib.lines.Line2D at 0x1d4757d6670>]"
      ]
     },
     "execution_count": 94,
     "metadata": {},
     "output_type": "execute_result"
    },
    {
     "data": {
      "image/png": "[encoded data removed]",
      "text/plain": [
       "<Figure size 432x288 with 1 Axes>"
      ]
     },
     "metadata": {
      "needs_background": "light"
     },
     "output_type": "display_data"
    }
   ],
   "source": [
    "plt.plot(ys_rk[:, 1], ts_rk)"
   ]
  },
  {
   "cell_type": "markdown",
   "id": "bc891886",
   "metadata": {},
   "source": [
    "### Норма матрицы, представляющей собой разницу между решением методом РК4 и АБ5"
   ]
  },
  {
   "cell_type": "code",
   "execution_count": 95,
   "id": "65293aad",
   "metadata": {},
   "outputs": [
    {
     "data": {
      "text/plain": [
       "0.22965073078661102"
      ]
     },
     "execution_count": 95,
     "metadata": {},
     "output_type": "execute_result"
    }
   ],
   "source": [
    "np.linalg.norm(ys_rk-ys_a)"
   ]
  },
  {
   "cell_type": "markdown",
   "id": "2978dddf",
   "metadata": {},
   "source": [
    "### Измерение времени выполнения"
   ]
  },
  {
   "cell_type": "markdown",
   "id": "1711043c",
   "metadata": {},
   "source": [
    "#### Замер времени adams_bashford5"
   ]
  },
  {
   "cell_type": "code",
   "execution_count": 96,
   "id": "46601b07",
   "metadata": {},
   "outputs": [
    {
     "name": "stdout",
     "output_type": "stream",
     "text": [
      "1.49 ms ± 103 µs per loop (mean ± std. dev. of 7 runs, 1000 loops each)\n"
     ]
    }
   ],
   "source": [
    "%timeit adams_bashford5(pend, 0, 10, y0[:], 0.1, args)"
   ]
  },
  {
   "cell_type": "markdown",
   "id": "be78aa03",
   "metadata": {},
   "source": [
    "#### Замер времени runge_kutta4"
   ]
  },
  {
   "cell_type": "code",
   "execution_count": 97,
   "id": "e400b7b7",
   "metadata": {},
   "outputs": [
    {
     "name": "stdout",
     "output_type": "stream",
     "text": [
      "3.78 ms ± 311 µs per loop (mean ± std. dev. of 7 runs, 100 loops each)\n"
     ]
    }
   ],
   "source": [
    "%timeit runge_kutta4(pend, 0, 10, y0[:], 0.1, args)"
   ]
  }
 ],
 "metadata": {
  "kernelspec": {
   "display_name": "Python 3",
   "language": "python",
   "name": "python3"
  },
  "language_info": {
   "codemirror_mode": {
    "name": "ipython",
    "version": 3
   },
   "file_extension": ".py",
   "mimetype": "text/x-python",
   "name": "python",
   "nbconvert_exporter": "python",
   "pygments_lexer": "ipython3",
   "version": "3.8.10"
  }
 },
 "nbformat": 4,
 "nbformat_minor": 5
}
